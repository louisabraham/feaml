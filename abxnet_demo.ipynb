{
 "cells": [
  {
   "cell_type": "code",
   "execution_count": 169,
   "metadata": {
    "ExecuteTime": {
     "end_time": "2019-06-06T09:19:28.944067Z",
     "start_time": "2019-06-06T09:19:02.854096Z"
    }
   },
   "outputs": [
    {
     "name": "stdout",
     "output_type": "stream",
     "text": [
      "\u001b[K\u001b[?25h/usr/local/bin/ngrok -> /usr/local/lib/node_modules/ngrok/bin/ngrok \u001b[35mlinkStuff\u001b[0m readable-stream@1.\u001b[0m\u001b[Km\u001b[K\n",
      "\u001b[K\u001b[?25h7m            \u001b[27m\u001b[90m░░░░░░\u001b[0m⸩ ⠸ postinstall:uri-js: \u001b[32minfo\u001b[0m \u001b[35mlifecycle\u001b[0m uri-js@4.2.2~postinst\u001b[0m\u001b[K\n",
      "> ngrok@3.1.1 postinstall /usr/local/lib/node_modules/ngrok\n",
      "> node ./postinstall.js\n",
      "\n",
      "ngrok - downloading binary https://bin.equinox.io/c/4VmDzA7iaHb/ngrok-stable-darwin-amd64.zip\n"
     ]
    },
    {
     "name": "stdout",
     "output_type": "stream",
     "text": [
      "ngrok - downloading progress: 0/16611170\u001b[2K\u001b[1Gngrok - downloading progress: 9560/16611170\u001b[2K\u001b[1Gngrok - downloading progress: 25944/16611170\u001b[2K\u001b[1Gngrok - downloading progress: 42328/16611170\u001b[2K\u001b[1Gngrok - downloading progress: 58712/16611170\u001b[2K\u001b[1Gngrok - downloading progress: 75096/16611170\u001b[2K\u001b[1Gngrok - downloading progress: 91480/16611170\u001b[2K\u001b[1Gngrok - downloading progress: 92096/16611170\u001b[2K\u001b[1Gngrok - downloading progress: 108480/16611170\u001b[2K\u001b[1Gngrok - downloading progress: 124864/16611170\u001b[2K\u001b[1Gngrok - downloading progress: 141248/16611170\u001b[2K\u001b[1Gngrok - downloading progress: 157632/16611170\u001b[2K\u001b[1Gngrok - downloading progress: 174016/16611170\u001b[2K\u001b[1Gngrok - downloading progress: 190400/16611170\u001b[2K\u001b[1Gngrok - downloading progress: 205040/16611170\u001b[2K\u001b[1Gngrok - downloading progress: 221424/16611170\u001b[2K\u001b[1Gngrok - downloading progress: 237808/16611170\u001b[2K\u001b[1Gngrok - downloading progress: 254192/16611170\u001b[2K\u001b[1Gngrok - downloading progress: 270576/16611170\u001b[2K\u001b[1Gngrok - downloading progress: 286960/16611170\u001b[2K\u001b[1Gngrok - downloading progress: 300608/16611170\u001b[2K\u001b[1Gngrok - downloading progress: 316992/16611170\u001b[2K\u001b[1Gngrok - downloading progress: 333376/16611170\u001b[2K\u001b[1Gngrok - downloading progress: 349760/16611170\u001b[2K\u001b[1Gngrok - downloading progress: 352736/16611170\u001b[2K\u001b[1Gngrok - downloading progress: 369120/16611170\u001b[2K\u001b[1Gngrok - downloading progress: 380248/16611170\u001b[2K\u001b[1Gngrok - downloading progress: 396632/16611170\u001b[2K\u001b[1Gngrok - downloading progress: 413016/16611170\u001b[2K\u001b[1Gngrok - downloading progress: 429400/16611170\u001b[2K\u001b[1Gngrok - downloading progress: 433824/16611170\u001b[2K\u001b[1Gngrok - downloading progress: 435272/16611170\u001b[2K\u001b[1Gngrok - downloading progress: 451656/16611170\u001b[2K\u001b[1Gngrok - downloading progress: 468040/16611170\u001b[2K\u001b[1Gngrok - downloading progress: 484424/16611170\u001b[2K\u001b[1Gngrok - downloading progress: 484504/16611170\u001b[2K\u001b[1Gngrok - downloading progress: 500888/16611170\u001b[2K\u001b[1Gngrok - downloading progress: 517272/16611170\u001b[2K\u001b[1Gngrok - downloading progress: 533656/16611170\u001b[2K\u001b[1Gngrok - downloading progress: 550040/16611170\u001b[2K\u001b[1Gngrok - downloading progress: 566424/16611170\u001b[2K\u001b[1Gngrok - downloading progress: 580072/16611170\u001b[2K\u001b[1Gngrok - downloading progress: 596456/16611170\u001b[2K\u001b[1Gngrok - downloading progress: 612840/16611170\u001b[2K\u001b[1Gngrok - downloading progress: 629224/16611170\u001b[2K\u001b[1Gngrok - downloading progress: 645608/16611170\u001b[2K\u001b[1Gngrok - downloading progress: 656816/16611170\u001b[2K\u001b[1Gngrok - downloading progress: 658264/16611170\u001b[2K\u001b[1Gngrok - downloading progress: 674648/16611170\u001b[2K\u001b[1Gngrok - downloading progress: 691032/16611170\u001b[2K\u001b[1Gngrok - downloading progress: 707416/16611170\u001b[2K\u001b[1Gngrok - downloading progress: 723800/16611170\u001b[2K\u001b[1Gngrok - downloading progress: 727768/16611170\u001b[2K\u001b[1Gngrok - downloading progress: 744152/16611170\u001b[2K\u001b[1Gngrok - downloading progress: 760536/16611170\u001b[2K\u001b[1Gngrok - downloading progress: 776920/16611170\u001b[2K\u001b[1Gngrok - downloading progress: 793304/16611170\u001b[2K\u001b[1Gngrok - downloading progress: 809688/16611170\u001b[2K\u001b[1Gngrok - downloading progress: 816096/16611170\u001b[2K\u001b[1Gngrok - downloading progress: 823336/16611170\u001b[2K\u001b[1Gngrok - downloading progress: 839720/16611170\u001b[2K\u001b[1Gngrok - downloading progress: 856104/16611170\u001b[2K\u001b[1Gngrok - downloading progress: 872488/16611170\u001b[2K\u001b[1Gngrok - downloading progress: 888872/16611170\u001b[2K\u001b[1Gngrok - downloading progress: 905256/16611170\u001b[2K\u001b[1Gngrok - downloading progress: 916008/16611170\u001b[2K\u001b[1Gngrok - downloading progress: 918904/16611170\u001b[2K\u001b[1Gngrok - downloading progress: 935288/16611170\u001b[2K\u001b[1Gngrok - downloading progress: 951672/16611170\u001b[2K\u001b[1Gngrok - downloading progress: 968056/16611170\u001b[2K\u001b[1Gngrok - downloading progress: 984440/16611170\u001b[2K\u001b[1Gngrok - downloading progress: 1000824/16611170\u001b[2K\u001b[1Gngrok - downloading progress: 1010128/16611170\u001b[2K\u001b[1Gngrok - downloading progress: 1026512/16611170\u001b[2K\u001b[1Gngrok - downloading progress: 1042896/16611170\u001b[2K\u001b[1Gngrok - downloading progress: 1059280/16611170\u001b[2K\u001b[1Gngrok - downloading progress: 1075664/16611170\u001b[2K\u001b[1Gngrok - downloading progress: 1089768/16611170\u001b[2K\u001b[1Gngrok - downloading progress: 1106152/16611170\u001b[2K\u001b[1Gngrok - downloading progress: 1122536/16611170\u001b[2K\u001b[1Gngrok - downloading progress: 1138920/16611170\u001b[2K\u001b[1Gngrok - downloading progress: 1141896/16611170\u001b[2K\u001b[1Gngrok - downloading progress: 1158280/16611170\u001b[2K\u001b[1Gngrok - downloading progress: 1174664/16611170\u001b[2K\u001b[1Gngrok - downloading progress: 1191048/16611170\u001b[2K\u001b[1Gngrok - downloading progress: 1196920/16611170\u001b[2K\u001b[1Gngrok - downloading progress: 1213304/16611170\u001b[2K\u001b[1Gngrok - downloading progress: 1229688/16611170\u001b[2K\u001b[1Gngrok - downloading progress: 1246072/16611170\u001b[2K\u001b[1Gngrok - downloading progress: 1262456/16611170\u001b[2K\u001b[1Gngrok - downloading progress: 1278840/16611170\u001b[2K\u001b[1Gngrok - downloading progress: 1285248/16611170\u001b[2K\u001b[1Gngrok - downloading progress: 1301632/16611170\u001b[2K\u001b[1Gngrok - downloading progress: 1318016/16611170\u001b[2K\u001b[1Gngrok - downloading progress: 1334400/16611170\u001b[2K\u001b[1Gngrok - downloading progress: 1350784/16611170\u001b[2K\u001b[1Gngrok - downloading progress: 1367168/16611170\u001b[2K\u001b[1Gngrok - downloading progress: 1372128/16611170\u001b[2K\u001b[1Gngrok - downloading progress: 1388512/16611170\u001b[2K\u001b[1Gngrok - downloading progress: 1404896/16611170\u001b[2K\u001b[1Gngrok - downloading progress: 1421280/16611170\u001b[2K\u001b[1Gngrok - downloading progress: 1432944/16611170\u001b[2K\u001b[1Gngrok - downloading progress: 1449328/16611170\u001b[2K\u001b[1Gngrok - downloading progress: 1465712/16611170\u001b[2K\u001b[1Gngrok - downloading progress: 1482096/16611170\u001b[2K\u001b[1Gngrok - downloading progress: 1498480/16611170\u001b[2K\u001b[1Gngrok - downloading progress: 1514864/16611170\u001b[2K\u001b[1Gngrok - downloading progress: 1528512/16611170\u001b[2K\u001b[1Gngrok - downloading progress: 1544896/16611170\u001b[2K\u001b[1Gngrok - downloading progress: 1553128/16611170\u001b[2K\u001b[1Gngrok - downloading progress: 1567608/16611170\u001b[2K\u001b[1Gngrok - downloading progress: 1583992/16611170\u001b[2K\u001b[1Gngrok - downloading progress: 1600376/16611170\u001b[2K\u001b[1Gngrok - downloading progress: 1616760/16611170\u001b[2K\u001b[1Gngrok - downloading progress: 1633144/16611170\u001b[2K\u001b[1Gngrok - downloading progress: 1649528/16611170\u001b[2K\u001b[1Gngrok - downloading progress: 1665912/16611170\u001b[2K\u001b[1Gngrok - downloading progress: 1682296/16611170\u001b[2K\u001b[1Gngrok - downloading progress: 1697928/16611170\u001b[2K\u001b[1Gngrok - downloading progress: 1714312/16611170\u001b[2K\u001b[1Gngrok - downloading progress: 1730696/16611170\u001b[2K\u001b[1Gngrok - downloading progress: 1747080/16611170\u001b[2K\u001b[1Gngrok - downloading progress: 1763464/16611170\u001b[2K\u001b[1Gngrok - downloading progress: 1764536/16611170\u001b[2K\u001b[1Gngrok - downloading progress: 1780920/16611170\u001b[2K\u001b[1Gngrok - downloading progress: 1797304/16611170\u001b[2K\u001b[1Gngrok - downloading progress: 1813688/16611170\u001b[2K\u001b[1Gngrok - downloading progress: 1830072/16611170\u001b[2K\u001b[1Gngrok - downloading progress: 1831144/16611170\u001b[2K\u001b[1Gngrok - downloading progress: 1847528/16611170\u001b[2K\u001b[1Gngrok - downloading progress: 1863912/16611170\u001b[2K\u001b[1Gngrok - downloading progress: 1880296/16611170\u001b[2K\u001b[1Gngrok - downloading progress: 1896680/16611170\u001b[2K\u001b[1Gngrok - downloading progress: 1913064/16611170\u001b[2K\u001b[1Gngrok - downloading progress: 1929448/16611170\u001b[2K\u001b[1Gngrok - downloading progress: 1936848/16611170\u001b[2K\u001b[1Gngrok - downloading progress: 1953232/16611170\u001b[2K\u001b[1Gngrok - downloading progress: 1969616/16611170\u001b[2K\u001b[1Gngrok - downloading progress: 1986000/16611170\u001b[2K\u001b[1Gngrok - downloading progress: 2000560/16611170\u001b[2K\u001b[1Gngrok - downloading progress: 2016944/16611170\u001b[2K\u001b[1Gngrok - downloading progress: 2033328/16611170\u001b[2K\u001b[1Gngrok - downloading progress: 2049712/16611170\u001b[2K\u001b[1Gngrok - downloading progress: 2066096/16611170\u001b[2K\u001b[1Gngrok - downloading progress: 2082480/16611170\u001b[2K\u001b[1Gngrok - downloading progress: 2098864/16611170\u001b[2K\u001b[1Gngrok - downloading progress: 2114952/16611170\u001b[2K\u001b[1Gngrok - downloading progress: 2131336/16611170\u001b[2K\u001b[1Gngrok - downloading progress: 2147720/16611170\u001b[2K\u001b[1Gngrok - downloading progress: 2164104/16611170\u001b[2K\u001b[1Gngrok - downloading progress: 2180488/16611170\u001b[2K\u001b[1Gngrok - downloading progress: 2196872/16611170\u001b[2K\u001b[1Gngrok - downloading progress: 2213256/16611170\u001b[2K\u001b[1Gngrok - downloading progress: 2225000/16611170\u001b[2K\u001b[1Gngrok - downloading progress: 2241384/16611170\u001b[2K\u001b[1Gngrok - downloading progress: 2257768/16611170\u001b[2K\u001b[1Gngrok - downloading progress: 2272784/16611170\u001b[2K\u001b[1Gngrok - downloading progress: 2289168/16611170\u001b[2K\u001b[1Gngrok - downloading progress: 2305552/16611170\u001b[2K\u001b[1Gngrok - downloading progress: 2321936/16611170\u001b[2K\u001b[1Gngrok - downloading progress: 2338320/16611170\u001b[2K\u001b[1Gngrok - downloading progress: 2349528/16611170\u001b[2K\u001b[1Gngrok - downloading progress: 2365912/16611170\u001b[2K\u001b[1Gngrok - downloading progress: 2382296/16611170\u001b[2K\u001b[1Gngrok - downloading progress: 2398680/16611170\u001b[2K\u001b[1Gngrok - downloading progress: 2415064/16611170\u001b[2K\u001b[1Gngrok - downloading progress: 2416136/16611170\u001b[2K\u001b[1Gngrok - downloading progress: 2432520/16611170\u001b[2K\u001b[1Gngrok - downloading progress: 2448904/16611170\u001b[2K\u001b[1Gngrok - downloading progress: 2465288/16611170\u001b[2K\u001b[1Gngrok - downloading progress: 2481672/16611170"
     ]
    },
    {
     "name": "stdout",
     "output_type": "stream",
     "text": [
      "\u001b[2K\u001b[1Gngrok - downloading progress: 2498056/16611170\u001b[2K\u001b[1Gngrok - downloading progress: 2514440/16611170\u001b[2K\u001b[1Gngrok - downloading progress: 2530824/16611170\u001b[2K\u001b[1Gngrok - downloading progress: 2545008/16611170\u001b[2K\u001b[1Gngrok - downloading progress: 2547904/16611170\u001b[2K\u001b[1Gngrok - downloading progress: 2564288/16611170\u001b[2K\u001b[1Gngrok - downloading progress: 2572520/16611170\u001b[2K\u001b[1Gngrok - downloading progress: 2588904/16611170\u001b[2K\u001b[1Gngrok - downloading progress: 2605288/16611170\u001b[2K\u001b[1Gngrok - downloading progress: 2621672/16611170\u001b[2K\u001b[1Gngrok - downloading progress: 2638056/16611170\u001b[2K\u001b[1Gngrok - downloading progress: 2654440/16611170\u001b[2K\u001b[1Gngrok - downloading progress: 2670824/16611170\u001b[2K\u001b[1Gngrok - downloading progress: 2687208/16611170\u001b[2K\u001b[1Gngrok - downloading progress: 2703592/16611170\u001b[2K\u001b[1Gngrok - downloading progress: 2719976/16611170\u001b[2K\u001b[1Gngrok - downloading progress: 2736360/16611170\u001b[2K\u001b[1Gngrok - downloading progress: 2740488/16611170\u001b[2K\u001b[1Gngrok - downloading progress: 2756872/16611170\u001b[2K\u001b[1Gngrok - downloading progress: 2773256/16611170\u001b[2K\u001b[1Gngrok - downloading progress: 2789640/16611170\u001b[2K\u001b[1Gngrok - downloading progress: 2806024/16611170\u001b[2K\u001b[1Gngrok - downloading progress: 2822408/16611170\u001b[2K\u001b[1Gngrok - downloading progress: 2838792/16611170\u001b[2K\u001b[1Gngrok - downloading progress: 2850536/16611170\u001b[2K\u001b[1Gngrok - downloading progress: 2866920/16611170\u001b[2K\u001b[1Gngrok - downloading progress: 2883304/16611170\u001b[2K\u001b[1Gngrok - downloading progress: 2899688/16611170\u001b[2K\u001b[1Gngrok - downloading progress: 2916072/16611170\u001b[2K\u001b[1Gngrok - downloading progress: 2932456/16611170\u001b[2K\u001b[1Gngrok - downloading progress: 2948840/16611170\u001b[2K\u001b[1Gngrok - downloading progress: 2965224/16611170\u001b[2K\u001b[1Gngrok - downloading progress: 2981608/16611170\u001b[2K\u001b[1Gngrok - downloading progress: 2997992/16611170\u001b[2K\u001b[1Gngrok - downloading progress: 3001128/16611170\u001b[2K\u001b[1Gngrok - downloading progress: 3009816/16611170\u001b[2K\u001b[1Gngrok - downloading progress: 3026200/16611170\u001b[2K\u001b[1Gngrok - downloading progress: 3042584/16611170\u001b[2K\u001b[1Gngrok - downloading progress: 3058968/16611170\u001b[2K\u001b[1Gngrok - downloading progress: 3075352/16611170\u001b[2K\u001b[1Gngrok - downloading progress: 3091736/16611170\u001b[2K\u001b[1Gngrok - downloading progress: 3108120/16611170\u001b[2K\u001b[1Gngrok - downloading progress: 3124504/16611170\u001b[2K\u001b[1Gngrok - downloading progress: 3140888/16611170\u001b[2K\u001b[1Gngrok - downloading progress: 3157272/16611170\u001b[2K\u001b[1Gngrok - downloading progress: 3173656/16611170\u001b[2K\u001b[1Gngrok - downloading progress: 3190040/16611170\u001b[2K\u001b[1Gngrok - downloading progress: 3202400/16611170\u001b[2K\u001b[1Gngrok - downloading progress: 3218784/16611170\u001b[2K\u001b[1Gngrok - downloading progress: 3235168/16611170\u001b[2K\u001b[1Gngrok - downloading progress: 3244392/16611170\u001b[2K\u001b[1Gngrok - downloading progress: 3260776/16611170\u001b[2K\u001b[1Gngrok - downloading progress: 3271904/16611170\u001b[2K\u001b[1Gngrok - downloading progress: 3288288/16611170\u001b[2K\u001b[1Gngrok - downloading progress: 3304672/16611170\u001b[2K\u001b[1Gngrok - downloading progress: 3321056/16611170\u001b[2K\u001b[1Gngrok - downloading progress: 3337440/16611170\u001b[2K\u001b[1Gngrok - downloading progress: 3353824/16611170\u001b[2K\u001b[1Gngrok - downloading progress: 3370208/16611170\u001b[2K\u001b[1Gngrok - downloading progress: 3386592/16611170\u001b[2K\u001b[1Gngrok - downloading progress: 3402976/16611170\u001b[2K\u001b[1Gngrok - downloading progress: 3413808/16611170\u001b[2K\u001b[1Gngrok - downloading progress: 3430192/16611170\u001b[2K\u001b[1Gngrok - downloading progress: 3446576/16611170\u001b[2K\u001b[1Gngrok - downloading progress: 3462960/16611170\u001b[2K\u001b[1Gngrok - downloading progress: 3479344/16611170\u001b[2K\u001b[1Gngrok - downloading progress: 3495728/16611170\u001b[2K\u001b[1Gngrok - downloading progress: 3512112/16611170\u001b[2K\u001b[1Gngrok - downloading progress: 3515168/16611170\u001b[2K\u001b[1Gngrok - downloading progress: 3531552/16611170\u001b[2K\u001b[1Gngrok - downloading progress: 3547936/16611170\u001b[2K\u001b[1Gngrok - downloading progress: 3564320/16611170\u001b[2K\u001b[1Gngrok - downloading progress: 3580704/16611170\u001b[2K\u001b[1Gngrok - downloading progress: 3597088/16611170\u001b[2K\u001b[1Gngrok - downloading progress: 3613472/16611170\u001b[2K\u001b[1Gngrok - downloading progress: 3629856/16611170\u001b[2K\u001b[1Gngrok - downloading progress: 3644040/16611170\u001b[2K\u001b[1Gngrok - downloading progress: 3660424/16611170\u001b[2K\u001b[1Gngrok - downloading progress: 3676808/16611170\u001b[2K\u001b[1Gngrok - downloading progress: 3693192/16611170\u001b[2K\u001b[1Gngrok - downloading progress: 3709576/16611170\u001b[2K\u001b[1Gngrok - downloading progress: 3725960/16611170\u001b[2K\u001b[1Gngrok - downloading progress: 3742344/16611170\u001b[2K\u001b[1Gngrok - downloading progress: 3758728/16611170\u001b[2K\u001b[1Gngrok - downloading progress: 3775112/16611170\u001b[2K\u001b[1Gngrok - downloading progress: 3778704/16611170\u001b[2K\u001b[1Gngrok - downloading progress: 3795088/16611170\u001b[2K\u001b[1Gngrok - downloading progress: 3811472/16611170\u001b[2K\u001b[1Gngrok - downloading progress: 3827856/16611170\u001b[2K\u001b[1Gngrok - downloading progress: 3844240/16611170\u001b[2K\u001b[1Gngrok - downloading progress: 3860624/16611170\u001b[2K\u001b[1Gngrok - downloading progress: 3877008/16611170\u001b[2K\u001b[1Gngrok - downloading progress: 3877168/16611170\u001b[2K\u001b[1Gngrok - downloading progress: 3893552/16611170\u001b[2K\u001b[1Gngrok - downloading progress: 3909936/16611170\u001b[2K\u001b[1Gngrok - downloading progress: 3926320/16611170\u001b[2K\u001b[1Gngrok - downloading progress: 3942704/16611170\u001b[2K\u001b[1Gngrok - downloading progress: 3959088/16611170\u001b[2K\u001b[1Gngrok - downloading progress: 3975472/16611170\u001b[2K\u001b[1Gngrok - downloading progress: 3978528/16611170\u001b[2K\u001b[1Gngrok - downloading progress: 3994912/16611170\u001b[2K\u001b[1Gngrok - downloading progress: 4011296/16611170\u001b[2K\u001b[1Gngrok - downloading progress: 4027680/16611170\u001b[2K\u001b[1Gngrok - downloading progress: 4044064/16611170\u001b[2K\u001b[1Gngrok - downloading progress: 4060448/16611170\u001b[2K\u001b[1Gngrok - downloading progress: 4076832/16611170\u001b[2K\u001b[1Gngrok - downloading progress: 4093216/16611170\u001b[2K\u001b[1Gngrok - downloading progress: 4109600/16611170\u001b[2K\u001b[1Gngrok - downloading progress: 4118984/16611170\u001b[2K\u001b[1Gngrok - downloading progress: 4135368/16611170\u001b[2K\u001b[1Gngrok - downloading progress: 4151752/16611170\u001b[2K\u001b[1Gngrok - downloading progress: 4168136/16611170\u001b[2K\u001b[1Gngrok - downloading progress: 4184520/16611170\u001b[2K\u001b[1Gngrok - downloading progress: 4200904/16611170\u001b[2K\u001b[1Gngrok - downloading progress: 4201520/16611170\u001b[2K\u001b[1Gngrok - downloading progress: 4217904/16611170\u001b[2K\u001b[1Gngrok - downloading progress: 4234288/16611170\u001b[2K\u001b[1Gngrok - downloading progress: 4250672/16611170\u001b[2K\u001b[1Gngrok - downloading progress: 4267056/16611170\u001b[2K\u001b[1Gngrok - downloading progress: 4283440/16611170\u001b[2K\u001b[1Gngrok - downloading progress: 4299824/16611170\u001b[2K\u001b[1Gngrok - downloading progress: 4305776/16611170\u001b[2K\u001b[1Gngrok - downloading progress: 4322160/16611170\u001b[2K\u001b[1Gngrok - downloading progress: 4338544/16611170\u001b[2K\u001b[1Gngrok - downloading progress: 4354928/16611170\u001b[2K\u001b[1Gngrok - downloading progress: 4371312/16611170\u001b[2K\u001b[1Gngrok - downloading progress: 4387696/16611170\u001b[2K\u001b[1Gngrok - downloading progress: 4404080/16611170\u001b[2K\u001b[1Gngrok - downloading progress: 4420464/16611170\u001b[2K\u001b[1Gngrok - downloading progress: 4434648/16611170\u001b[2K\u001b[1Gngrok - downloading progress: 4451032/16611170\u001b[2K\u001b[1Gngrok - downloading progress: 4467416/16611170\u001b[2K\u001b[1Gngrok - downloading progress: 4483800/16611170\u001b[2K\u001b[1Gngrok - downloading progress: 4500184/16611170\u001b[2K\u001b[1Gngrok - downloading progress: 4516568/16611170\u001b[2K\u001b[1Gngrok - downloading progress: 4530216/16611170\u001b[2K\u001b[1Gngrok - downloading progress: 4546600/16611170\u001b[2K\u001b[1Gngrok - downloading progress: 4562984/16611170\u001b[2K\u001b[1Gngrok - downloading progress: 4579368/16611170\u001b[2K\u001b[1Gngrok - downloading progress: 4595752/16611170\u001b[2K\u001b[1Gngrok - downloading progress: 4612136/16611170\u001b[2K\u001b[1Gngrok - downloading progress: 4628520/16611170\u001b[2K\u001b[1Gngrok - downloading progress: 4644904/16611170\u001b[2K\u001b[1Gngrok - downloading progress: 4657640/16611170\u001b[2K\u001b[1Gngrok - downloading progress: 4674024/16611170\u001b[2K\u001b[1Gngrok - downloading progress: 4690408/16611170\u001b[2K\u001b[1Gngrok - downloading progress: 4706792/16611170\u001b[2K\u001b[1Gngrok - downloading progress: 4723176/16611170\u001b[2K\u001b[1Gngrok - downloading progress: 4739560/16611170\u001b[2K\u001b[1Gngrok - downloading progress: 4755944/16611170\u001b[2K\u001b[1Gngrok - downloading progress: 4760448/16611170\u001b[2K\u001b[1Gngrok - downloading progress: 4767688/16611170\u001b[2K\u001b[1Gngrok - downloading progress: 4784072/16611170\u001b[2K\u001b[1Gngrok - downloading progress: 4800456/16611170\u001b[2K\u001b[1Gngrok - downloading progress: 4816840/16611170\u001b[2K\u001b[1Gngrok - downloading progress: 4833224/16611170"
     ]
    },
    {
     "name": "stdout",
     "output_type": "stream",
     "text": [
      "\u001b[2K\u001b[1Gngrok - downloading progress: 4849608/16611170\u001b[2K\u001b[1Gngrok - downloading progress: 4865992/16611170\u001b[2K\u001b[1Gngrok - downloading progress: 4882376/16611170\u001b[2K\u001b[1Gngrok - downloading progress: 4895112/16611170\u001b[2K\u001b[1Gngrok - downloading progress: 4911496/16611170\u001b[2K\u001b[1Gngrok - downloading progress: 4927880/16611170\u001b[2K\u001b[1Gngrok - downloading progress: 4944264/16611170\u001b[2K\u001b[1Gngrok - downloading progress: 4960648/16611170\u001b[2K\u001b[1Gngrok - downloading progress: 4977032/16611170\u001b[2K\u001b[1Gngrok - downloading progress: 4993416/16611170\u001b[2K\u001b[1Gngrok - downloading progress: 5009800/16611170\u001b[2K\u001b[1Gngrok - downloading progress: 5026184/16611170\u001b[2K\u001b[1Gngrok - downloading progress: 5042568/16611170\u001b[2K\u001b[1Gngrok - downloading progress: 5058952/16611170\u001b[2K\u001b[1Gngrok - downloading progress: 5074664/16611170\u001b[2K\u001b[1Gngrok - downloading progress: 5091048/16611170\u001b[2K\u001b[1Gngrok - downloading progress: 5107432/16611170\u001b[2K\u001b[1Gngrok - downloading progress: 5123816/16611170\u001b[2K\u001b[1Gngrok - downloading progress: 5140200/16611170\u001b[2K\u001b[1Gngrok - downloading progress: 5156584/16611170\u001b[2K\u001b[1Gngrok - downloading progress: 5172968/16611170\u001b[2K\u001b[1Gngrok - downloading progress: 5189352/16611170\u001b[2K\u001b[1Gngrok - downloading progress: 5205736/16611170\u001b[2K\u001b[1Gngrok - downloading progress: 5222120/16611170\u001b[2K\u001b[1Gngrok - downloading progress: 5226704/16611170\u001b[2K\u001b[1Gngrok - downloading progress: 5243088/16611170\u001b[2K\u001b[1Gngrok - downloading progress: 5259472/16611170\u001b[2K\u001b[1Gngrok - downloading progress: 5275856/16611170\u001b[2K\u001b[1Gngrok - downloading progress: 5292240/16611170\u001b[2K\u001b[1Gngrok - downloading progress: 5308624/16611170\u001b[2K\u001b[1Gngrok - downloading progress: 5325008/16611170\u001b[2K\u001b[1Gngrok - downloading progress: 5341392/16611170\u001b[2K\u001b[1Gngrok - downloading progress: 5348336/16611170\u001b[2K\u001b[1Gngrok - downloading progress: 5364720/16611170\u001b[2K\u001b[1Gngrok - downloading progress: 5381104/16611170\u001b[2K\u001b[1Gngrok - downloading progress: 5397488/16611170\u001b[2K\u001b[1Gngrok - downloading progress: 5413872/16611170\u001b[2K\u001b[1Gngrok - downloading progress: 5430256/16611170\u001b[2K\u001b[1Gngrok - downloading progress: 5446640/16611170\u001b[2K\u001b[1Gngrok - downloading progress: 5462728/16611170\u001b[2K\u001b[1Gngrok - downloading progress: 5479112/16611170\u001b[2K\u001b[1Gngrok - downloading progress: 5495496/16611170\u001b[2K\u001b[1Gngrok - downloading progress: 5511880/16611170\u001b[2K\u001b[1Gngrok - downloading progress: 5528264/16611170\u001b[2K\u001b[1Gngrok - downloading progress: 5544648/16611170\u001b[2K\u001b[1Gngrok - downloading progress: 5561032/16611170\u001b[2K\u001b[1Gngrok - downloading progress: 5577416/16611170\u001b[2K\u001b[1Gngrok - downloading progress: 5593800/16611170\u001b[2K\u001b[1Gngrok - downloading progress: 5610184/16611170\u001b[2K\u001b[1Gngrok - downloading progress: 5626568/16611170\u001b[2K\u001b[1Gngrok - downloading progress: 5642952/16611170\u001b[2K\u001b[1Gngrok - downloading progress: 5659336/16611170\u001b[2K\u001b[1Gngrok - downloading progress: 5675720/16611170\u001b[2K\u001b[1Gngrok - downloading progress: 5692104/16611170\u001b[2K\u001b[1Gngrok - downloading progress: 5708488/16611170\u001b[2K\u001b[1Gngrok - downloading progress: 5724872/16611170\u001b[2K\u001b[1Gngrok - downloading progress: 5737848/16611170\u001b[2K\u001b[1Gngrok - downloading progress: 5754232/16611170\u001b[2K\u001b[1Gngrok - downloading progress: 5770616/16611170\u001b[2K\u001b[1Gngrok - downloading progress: 5787000/16611170\u001b[2K\u001b[1Gngrok - downloading progress: 5803384/16611170\u001b[2K\u001b[1Gngrok - downloading progress: 5819768/16611170\u001b[2K\u001b[1Gngrok - downloading progress: 5836152/16611170\u001b[2K\u001b[1Gngrok - downloading progress: 5846448/16611170\u001b[2K\u001b[1Gngrok - downloading progress: 5862832/16611170\u001b[2K\u001b[1Gngrok - downloading progress: 5879216/16611170\u001b[2K\u001b[1Gngrok - downloading progress: 5895600/16611170\u001b[2K\u001b[1Gngrok - downloading progress: 5911984/16611170\u001b[2K\u001b[1Gngrok - downloading progress: 5928368/16611170\u001b[2K\u001b[1Gngrok - downloading progress: 5944752/16611170\u001b[2K\u001b[1Gngrok - downloading progress: 5961136/16611170\u001b[2K\u001b[1Gngrok - downloading progress: 5977520/16611170\u001b[2K\u001b[1Gngrok - downloading progress: 5993904/16611170\u001b[2K\u001b[1Gngrok - downloading progress: 6010288/16611170\u001b[2K\u001b[1Gngrok - downloading progress: 6026672/16611170\u001b[2K\u001b[1Gngrok - downloading progress: 6037584/16611170\u001b[2K\u001b[1Gngrok - downloading progress: 6053968/16611170\u001b[2K\u001b[1Gngrok - downloading progress: 6070352/16611170\u001b[2K\u001b[1Gngrok - downloading progress: 6086736/16611170\u001b[2K\u001b[1Gngrok - downloading progress: 6103120/16611170\u001b[2K\u001b[1Gngrok - downloading progress: 6119504/16611170\u001b[2K\u001b[1Gngrok - downloading progress: 6128808/16611170\u001b[2K\u001b[1Gngrok - downloading progress: 6145192/16611170\u001b[2K\u001b[1Gngrok - downloading progress: 6161576/16611170\u001b[2K\u001b[1Gngrok - downloading progress: 6177960/16611170\u001b[2K\u001b[1Gngrok - downloading progress: 6194344/16611170\u001b[2K\u001b[1Gngrok - downloading progress: 6210728/16611170\u001b[2K\u001b[1Gngrok - downloading progress: 6220032/16611170\u001b[2K\u001b[1Gngrok - downloading progress: 6236416/16611170\u001b[2K\u001b[1Gngrok - downloading progress: 6252800/16611170\u001b[2K\u001b[1Gngrok - downloading progress: 6269184/16611170\u001b[2K\u001b[1Gngrok - downloading progress: 6285568/16611170\u001b[2K\u001b[1Gngrok - downloading progress: 6301120/16611170\u001b[2K\u001b[1Gngrok - downloading progress: 6317504/16611170\u001b[2K\u001b[1Gngrok - downloading progress: 6333888/16611170\u001b[2K\u001b[1Gngrok - downloading progress: 6350272/16611170\u001b[2K\u001b[1Gngrok - downloading progress: 6366656/16611170\u001b[2K\u001b[1Gngrok - downloading progress: 6383040/16611170\u001b[2K\u001b[1Gngrok - downloading progress: 6399424/16611170\u001b[2K\u001b[1Gngrok - downloading progress: 6415808/16611170\u001b[2K\u001b[1Gngrok - downloading progress: 6416960/16611170\u001b[2K\u001b[1Gngrok - downloading progress: 6433344/16611170\u001b[2K\u001b[1Gngrok - downloading progress: 6449728/16611170\u001b[2K\u001b[1Gngrok - downloading progress: 6466112/16611170\u001b[2K\u001b[1Gngrok - downloading progress: 6482496/16611170\u001b[2K\u001b[1Gngrok - downloading progress: 6498880/16611170\u001b[2K\u001b[1Gngrok - downloading progress: 6515264/16611170\u001b[2K\u001b[1Gngrok - downloading progress: 6519768/16611170\u001b[2K\u001b[1Gngrok - downloading progress: 6536152/16611170\u001b[2K\u001b[1Gngrok - downloading progress: 6552536/16611170\u001b[2K\u001b[1Gngrok - downloading progress: 6568920/16611170\u001b[2K\u001b[1Gngrok - downloading progress: 6585304/16611170\u001b[2K\u001b[1Gngrok - downloading progress: 6601688/16611170\u001b[2K\u001b[1Gngrok - downloading progress: 6612440/16611170\u001b[2K\u001b[1Gngrok - downloading progress: 6628824/16611170\u001b[2K\u001b[1Gngrok - downloading progress: 6645208/16611170\u001b[2K\u001b[1Gngrok - downloading progress: 6661592/16611170\u001b[2K\u001b[1Gngrok - downloading progress: 6661672/16611170\u001b[2K\u001b[1Gngrok - downloading progress: 6678056/16611170\u001b[2K\u001b[1Gngrok - downloading progress: 6694440/16611170\u001b[2K\u001b[1Gngrok - downloading progress: 6710824/16611170\u001b[2K\u001b[1Gngrok - downloading progress: 6727208/16611170\u001b[2K\u001b[1Gngrok - downloading progress: 6743592/16611170\u001b[2K\u001b[1Gngrok - downloading progress: 6759976/16611170\u001b[2K\u001b[1Gngrok - downloading progress: 6776360/16611170\u001b[2K\u001b[1Gngrok - downloading progress: 6780408/16611170\u001b[2K\u001b[1Gngrok - downloading progress: 6796792/16611170\u001b[2K\u001b[1Gngrok - downloading progress: 6813176/16611170\u001b[2K\u001b[1Gngrok - downloading progress: 6829560/16611170\u001b[2K\u001b[1Gngrok - downloading progress: 6845944/16611170\u001b[2K\u001b[1Gngrok - downloading progress: 6862328/16611170\u001b[2K\u001b[1Gngrok - downloading progress: 6878712/16611170\u001b[2K\u001b[1Gngrok - downloading progress: 6895096/16611170\u001b[2K\u001b[1Gngrok - downloading progress: 6911480/16611170\u001b[2K\u001b[1Gngrok - downloading progress: 6927864/16611170\u001b[2K\u001b[1Gngrok - downloading progress: 6936792/16611170\u001b[2K\u001b[1Gngrok - downloading progress: 6953176/16611170\u001b[2K\u001b[1Gngrok - downloading progress: 6969560/16611170\u001b[2K\u001b[1Gngrok - downloading progress: 6985944/16611170\u001b[2K\u001b[1Gngrok - downloading progress: 7002328/16611170\u001b[2K\u001b[1Gngrok - downloading progress: 7018712/16611170\u001b[2K\u001b[1Gngrok - downloading progress: 7035096/16611170\u001b[2K\u001b[1Gngrok - downloading progress: 7051480/16611170\u001b[2K\u001b[1Gngrok - downloading progress: 7067864/16611170\u001b[2K\u001b[1Gngrok - downloading progress: 7084248/16611170\u001b[2K\u001b[1Gngrok - downloading progress: 7100632/16611170\u001b[2K\u001b[1Gngrok - downloading progress: 7117016/16611170\u001b[2K\u001b[1Gngrok - downloading progress: 7133400/16611170\u001b[2K\u001b[1Gngrok - downloading progress: 7149784/16611170\u001b[2K\u001b[1Gngrok - downloading progress: 7166168/16611170\u001b[2K\u001b[1Gngrok - downloading progress: 7171368/16611170\u001b[2K\u001b[1Gngrok - downloading progress: 7187752/16611170\u001b[2K\u001b[1Gngrok - downloading progress: 7204136/16611170\u001b[2K\u001b[1Gngrok - downloading progress: 7220520/16611170\u001b[2K\u001b[1Gngrok - downloading progress: 7236904/16611170\u001b[2K\u001b[1Gngrok - downloading progress: 7253288/16611170"
     ]
    },
    {
     "name": "stdout",
     "output_type": "stream",
     "text": [
      "\u001b[2K\u001b[1Gngrok - downloading progress: 7269672/16611170\u001b[2K\u001b[1Gngrok - downloading progress: 7286056/16611170\u001b[2K\u001b[1Gngrok - downloading progress: 7301688/16611170\u001b[2K\u001b[1Gngrok - downloading progress: 7318072/16611170\u001b[2K\u001b[1Gngrok - downloading progress: 7334456/16611170\u001b[2K\u001b[1Gngrok - downloading progress: 7350840/16611170\u001b[2K\u001b[1Gngrok - downloading progress: 7367224/16611170\u001b[2K\u001b[1Gngrok - downloading progress: 7383608/16611170\u001b[2K\u001b[1Gngrok - downloading progress: 7399992/16611170\u001b[2K\u001b[1Gngrok - downloading progress: 7416376/16611170\u001b[2K\u001b[1Gngrok - downloading progress: 7432760/16611170\u001b[2K\u001b[1Gngrok - downloading progress: 7449144/16611170\u001b[2K\u001b[1Gngrok - downloading progress: 7465528/16611170\u001b[2K\u001b[1Gngrok - downloading progress: 7481912/16611170\u001b[2K\u001b[1Gngrok - downloading progress: 7498296/16611170\u001b[2K\u001b[1Gngrok - downloading progress: 7508752/16611170\u001b[2K\u001b[1Gngrok - downloading progress: 7525136/16611170\u001b[2K\u001b[1Gngrok - downloading progress: 7541520/16611170\u001b[2K\u001b[1Gngrok - downloading progress: 7557904/16611170\u001b[2K\u001b[1Gngrok - downloading progress: 7574288/16611170\u001b[2K\u001b[1Gngrok - downloading progress: 7590672/16611170\u001b[2K\u001b[1Gngrok - downloading progress: 7607056/16611170\u001b[2K\u001b[1Gngrok - downloading progress: 7623440/16611170\u001b[2K\u001b[1Gngrok - downloading progress: 7639824/16611170\u001b[2K\u001b[1Gngrok - downloading progress: 7656208/16611170\u001b[2K\u001b[1Gngrok - downloading progress: 7672592/16611170\u001b[2K\u001b[1Gngrok - downloading progress: 7688976/16611170\u001b[2K\u001b[1Gngrok - downloading progress: 7705360/16611170\u001b[2K\u001b[1Gngrok - downloading progress: 7721744/16611170\u001b[2K\u001b[1Gngrok - downloading progress: 7738128/16611170\u001b[2K\u001b[1Gngrok - downloading progress: 7754512/16611170\u001b[2K\u001b[1Gngrok - downloading progress: 7770896/16611170\u001b[2K\u001b[1Gngrok - downloading progress: 7772288/16611170\u001b[2K\u001b[1Gngrok - downloading progress: 7788672/16611170\u001b[2K\u001b[1Gngrok - downloading progress: 7805056/16611170\u001b[2K\u001b[1Gngrok - downloading progress: 7821440/16611170\u001b[2K\u001b[1Gngrok - downloading progress: 7837824/16611170\u001b[2K\u001b[1Gngrok - downloading progress: 7854208/16611170\u001b[2K\u001b[1Gngrok - downloading progress: 7870592/16611170\u001b[2K\u001b[1Gngrok - downloading progress: 7886976/16611170\u001b[2K\u001b[1Gngrok - downloading progress: 7888128/16611170\u001b[2K\u001b[1Gngrok - downloading progress: 7904512/16611170\u001b[2K\u001b[1Gngrok - downloading progress: 7920896/16611170\u001b[2K\u001b[1Gngrok - downloading progress: 7937280/16611170\u001b[2K\u001b[1Gngrok - downloading progress: 7944600/16611170\u001b[2K\u001b[1Gngrok - downloading progress: 7960984/16611170\u001b[2K\u001b[1Gngrok - downloading progress: 7977368/16611170\u001b[2K\u001b[1Gngrok - downloading progress: 7993752/16611170\u001b[2K\u001b[1Gngrok - downloading progress: 8010136/16611170\u001b[2K\u001b[1Gngrok - downloading progress: 8026520/16611170\u001b[2K\u001b[1Gngrok - downloading progress: 8031480/16611170\u001b[2K\u001b[1Gngrok - downloading progress: 8047864/16611170\u001b[2K\u001b[1Gngrok - downloading progress: 8064248/16611170\u001b[2K\u001b[1Gngrok - downloading progress: 8080632/16611170\u001b[2K\u001b[1Gngrok - downloading progress: 8097016/16611170\u001b[2K\u001b[1Gngrok - downloading progress: 8113400/16611170\u001b[2K\u001b[1Gngrok - downloading progress: 8129784/16611170\u001b[2K\u001b[1Gngrok - downloading progress: 8146168/16611170\u001b[2K\u001b[1Gngrok - downloading progress: 8148768/16611170\u001b[2K\u001b[1Gngrok - downloading progress: 8165152/16611170\u001b[2K\u001b[1Gngrok - downloading progress: 8181536/16611170\u001b[2K\u001b[1Gngrok - downloading progress: 8197920/16611170\u001b[2K\u001b[1Gngrok - downloading progress: 8214304/16611170\u001b[2K\u001b[1Gngrok - downloading progress: 8230688/16611170\u001b[2K\u001b[1Gngrok - downloading progress: 8247072/16611170\u001b[2K\u001b[1Gngrok - downloading progress: 8263456/16611170\u001b[2K\u001b[1Gngrok - downloading progress: 8264608/16611170\u001b[2K\u001b[1Gngrok - downloading progress: 8279088/16611170\u001b[2K\u001b[1Gngrok - downloading progress: 8295472/16611170\u001b[2K\u001b[1Gngrok - downloading progress: 8311856/16611170\u001b[2K\u001b[1Gngrok - downloading progress: 8328240/16611170\u001b[2K\u001b[1Gngrok - downloading progress: 8344248/16611170\u001b[2K\u001b[1Gngrok - downloading progress: 8360632/16611170\u001b[2K\u001b[1Gngrok - downloading progress: 8377016/16611170\u001b[2K\u001b[1Gngrok - downloading progress: 8393400/16611170\u001b[2K\u001b[1Gngrok - downloading progress: 8409784/16611170\u001b[2K\u001b[1Gngrok - downloading progress: 8426168/16611170\u001b[2K\u001b[1Gngrok - downloading progress: 8442552/16611170\u001b[2K\u001b[1Gngrok - downloading progress: 8458936/16611170\u001b[2K\u001b[1Gngrok - downloading progress: 8474568/16611170\u001b[2K\u001b[1Gngrok - downloading progress: 8490952/16611170\u001b[2K\u001b[1Gngrok - downloading progress: 8507336/16611170\u001b[2K\u001b[1Gngrok - downloading progress: 8523720/16611170\u001b[2K\u001b[1Gngrok - downloading progress: 8540104/16611170\u001b[2K\u001b[1Gngrok - downloading progress: 8556488/16611170\u001b[2K\u001b[1Gngrok - downloading progress: 8572872/16611170\u001b[2K\u001b[1Gngrok - downloading progress: 8589256/16611170\u001b[2K\u001b[1Gngrok - downloading progress: 8604888/16611170\u001b[2K\u001b[1Gngrok - downloading progress: 8621272/16611170\u001b[2K\u001b[1Gngrok - downloading progress: 8637656/16611170\u001b[2K\u001b[1Gngrok - downloading progress: 8654040/16611170\u001b[2K\u001b[1Gngrok - downloading progress: 8670424/16611170\u001b[2K\u001b[1Gngrok - downloading progress: 8686808/16611170\u001b[2K\u001b[1Gngrok - downloading progress: 8703192/16611170\u001b[2K\u001b[1Gngrok - downloading progress: 8719576/16611170\u001b[2K\u001b[1Gngrok - downloading progress: 8735960/16611170\u001b[2K\u001b[1Gngrok - downloading progress: 8741000/16611170\u001b[2K\u001b[1Gngrok - downloading progress: 8757384/16611170\u001b[2K\u001b[1Gngrok - downloading progress: 8773768/16611170\u001b[2K\u001b[1Gngrok - downloading progress: 8790152/16611170\u001b[2K\u001b[1Gngrok - downloading progress: 8806536/16611170\u001b[2K\u001b[1Gngrok - downloading progress: 8822920/16611170\u001b[2K\u001b[1Gngrok - downloading progress: 8826432/16611170\u001b[2K\u001b[1Gngrok - downloading progress: 8842816/16611170\u001b[2K\u001b[1Gngrok - downloading progress: 8859200/16611170\u001b[2K\u001b[1Gngrok - downloading progress: 8875584/16611170\u001b[2K\u001b[1Gngrok - downloading progress: 8891968/16611170\u001b[2K\u001b[1Gngrok - downloading progress: 8908352/16611170\u001b[2K\u001b[1Gngrok - downloading progress: 8924736/16611170\u001b[2K\u001b[1Gngrok - downloading progress: 8930688/16611170\u001b[2K\u001b[1Gngrok - downloading progress: 8947072/16611170\u001b[2K\u001b[1Gngrok - downloading progress: 8963456/16611170\u001b[2K\u001b[1Gngrok - downloading progress: 8979840/16611170\u001b[2K\u001b[1Gngrok - downloading progress: 8996224/16611170\u001b[2K\u001b[1Gngrok - downloading progress: 9012608/16611170\u001b[2K\u001b[1Gngrok - downloading progress: 9028992/16611170\u001b[2K\u001b[1Gngrok - downloading progress: 9045376/16611170\u001b[2K\u001b[1Gngrok - downloading progress: 9061008/16611170\u001b[2K\u001b[1Gngrok - downloading progress: 9077392/16611170\u001b[2K\u001b[1Gngrok - downloading progress: 9093776/16611170\u001b[2K\u001b[1Gngrok - downloading progress: 9110160/16611170\u001b[2K\u001b[1Gngrok - downloading progress: 9126544/16611170\u001b[2K\u001b[1Gngrok - downloading progress: 9142928/16611170\u001b[2K\u001b[1Gngrok - downloading progress: 9159312/16611170\u001b[2K\u001b[1Gngrok - downloading progress: 9175696/16611170\u001b[2K\u001b[1Gngrok - downloading progress: 9192080/16611170\u001b[2K\u001b[1Gngrok - downloading progress: 9208464/16611170\u001b[2K\u001b[1Gngrok - downloading progress: 9224848/16611170\u001b[2K\u001b[1Gngrok - downloading progress: 9241232/16611170\u001b[2K\u001b[1Gngrok - downloading progress: 9257616/16611170\u001b[2K\u001b[1Gngrok - downloading progress: 9274000/16611170\u001b[2K\u001b[1Gngrok - downloading progress: 9290384/16611170\u001b[2K\u001b[1Gngrok - downloading progress: 9295584/16611170\u001b[2K\u001b[1Gngrok - downloading progress: 9311968/16611170\u001b[2K\u001b[1Gngrok - downloading progress: 9328352/16611170\u001b[2K\u001b[1Gngrok - downloading progress: 9344736/16611170\u001b[2K\u001b[1Gngrok - downloading progress: 9361120/16611170\u001b[2K\u001b[1Gngrok - downloading progress: 9377504/16611170\u001b[2K\u001b[1Gngrok - downloading progress: 9393888/16611170\u001b[2K\u001b[1Gngrok - downloading progress: 9410272/16611170\u001b[2K\u001b[1Gngrok - downloading progress: 9426656/16611170\u001b[2K\u001b[1Gngrok - downloading progress: 9443040/16611170\u001b[2K\u001b[1Gngrok - downloading progress: 9459424/16611170\u001b[2K\u001b[1Gngrok - downloading progress: 9475808/16611170\u001b[2K\u001b[1Gngrok - downloading progress: 9492192/16611170\u001b[2K\u001b[1Gngrok - downloading progress: 9508576/16611170\u001b[2K\u001b[1Gngrok - downloading progress: 9520024/16611170\u001b[2K\u001b[1Gngrok - downloading progress: 9536408/16611170\u001b[2K\u001b[1Gngrok - downloading progress: 9552792/16611170\u001b[2K\u001b[1Gngrok - downloading progress: 9569176/16611170\u001b[2K\u001b[1Gngrok - downloading progress: 9585560/16611170\u001b[2K\u001b[1Gngrok - downloading progress: 9601944/16611170\u001b[2K\u001b[1Gngrok - downloading progress: 9618328/16611170\u001b[2K\u001b[1Gngrok - downloading progress: 9634712/16611170\u001b[2K\u001b[1Gngrok - downloading progress: 9651096/16611170\u001b[2K\u001b[1Gngrok - downloading progress: 9667480/16611170\u001b[2K\u001b[1Gngrok - downloading progress: 9683864/16611170\u001b[2K\u001b[1Gngrok - downloading progress: 9700248/16611170\u001b[2K\u001b[1Gngrok - downloading progress: 9716632/16611170"
     ]
    },
    {
     "name": "stdout",
     "output_type": "stream",
     "text": [
      "\u001b[2K\u001b[1Gngrok - downloading progress: 9728536/16611170\u001b[2K\u001b[1Gngrok - downloading progress: 9744920/16611170\u001b[2K\u001b[1Gngrok - downloading progress: 9761304/16611170\u001b[2K\u001b[1Gngrok - downloading progress: 9777688/16611170\u001b[2K\u001b[1Gngrok - downloading progress: 9792248/16611170\u001b[2K\u001b[1Gngrok - downloading progress: 9808632/16611170\u001b[2K\u001b[1Gngrok - downloading progress: 9825016/16611170\u001b[2K\u001b[1Gngrok - downloading progress: 9841400/16611170\u001b[2K\u001b[1Gngrok - downloading progress: 9857784/16611170\u001b[2K\u001b[1Gngrok - downloading progress: 9874168/16611170\u001b[2K\u001b[1Gngrok - downloading progress: 9890552/16611170\u001b[2K\u001b[1Gngrok - downloading progress: 9906936/16611170\u001b[2K\u001b[1Gngrok - downloading progress: 9923320/16611170\u001b[2K\u001b[1Gngrok - downloading progress: 9939704/16611170\u001b[2K\u001b[1Gngrok - downloading progress: 9956088/16611170\u001b[2K\u001b[1Gngrok - downloading progress: 9972472/16611170\u001b[2K\u001b[1Gngrok - downloading progress: 9973248/16611170\u001b[2K\u001b[1Gngrok - downloading progress: 9989632/16611170\u001b[2K\u001b[1Gngrok - downloading progress: 10006016/16611170\u001b[2K\u001b[1Gngrok - downloading progress: 10022400/16611170\u001b[2K\u001b[1Gngrok - downloading progress: 10038784/16611170\u001b[2K\u001b[1Gngrok - downloading progress: 10055168/16611170\u001b[2K\u001b[1Gngrok - downloading progress: 10071552/16611170\u001b[2K\u001b[1Gngrok - downloading progress: 10087936/16611170\u001b[2K\u001b[1Gngrok - downloading progress: 10104320/16611170\u001b[2K\u001b[1Gngrok - downloading progress: 10120704/16611170\u001b[2K\u001b[1Gngrok - downloading progress: 10129632/16611170\u001b[2K\u001b[1Gngrok - downloading progress: 10146016/16611170\u001b[2K\u001b[1Gngrok - downloading progress: 10162400/16611170\u001b[2K\u001b[1Gngrok - downloading progress: 10178784/16611170\u001b[2K\u001b[1Gngrok - downloading progress: 10195168/16611170\u001b[2K\u001b[1Gngrok - downloading progress: 10211552/16611170\u001b[2K\u001b[1Gngrok - downloading progress: 10227936/16611170\u001b[2K\u001b[1Gngrok - downloading progress: 10244320/16611170\u001b[2K\u001b[1Gngrok - downloading progress: 10260704/16611170\u001b[2K\u001b[1Gngrok - downloading progress: 10268640/16611170\u001b[2K\u001b[1Gngrok - downloading progress: 10285024/16611170\u001b[2K\u001b[1Gngrok - downloading progress: 10301408/16611170\u001b[2K\u001b[1Gngrok - downloading progress: 10317792/16611170\u001b[2K\u001b[1Gngrok - downloading progress: 10334176/16611170\u001b[2K\u001b[1Gngrok - downloading progress: 10350560/16611170\u001b[2K\u001b[1Gngrok - downloading progress: 10366944/16611170\u001b[2K\u001b[1Gngrok - downloading progress: 10383328/16611170\u001b[2K\u001b[1Gngrok - downloading progress: 10399712/16611170\u001b[2K\u001b[1Gngrok - downloading progress: 10409096/16611170\u001b[2K\u001b[1Gngrok - downloading progress: 10425480/16611170\u001b[2K\u001b[1Gngrok - downloading progress: 10441864/16611170\u001b[2K\u001b[1Gngrok - downloading progress: 10458248/16611170\u001b[2K\u001b[1Gngrok - downloading progress: 10474632/16611170\u001b[2K\u001b[1Gngrok - downloading progress: 10491016/16611170\u001b[2K\u001b[1Gngrok - downloading progress: 10507400/16611170\u001b[2K\u001b[1Gngrok - downloading progress: 10523784/16611170\u001b[2K\u001b[1Gngrok - downloading progress: 10540168/16611170\u001b[2K\u001b[1Gngrok - downloading progress: 10556552/16611170\u001b[2K\u001b[1Gngrok - downloading progress: 10559688/16611170\u001b[2K\u001b[1Gngrok - downloading progress: 10576072/16611170\u001b[2K\u001b[1Gngrok - downloading progress: 10592456/16611170\u001b[2K\u001b[1Gngrok - downloading progress: 10608840/16611170\u001b[2K\u001b[1Gngrok - downloading progress: 10625224/16611170\u001b[2K\u001b[1Gngrok - downloading progress: 10641608/16611170\u001b[2K\u001b[1Gngrok - downloading progress: 10657992/16611170\u001b[2K\u001b[1Gngrok - downloading progress: 10662496/16611170\u001b[2K\u001b[1Gngrok - downloading progress: 10678880/16611170\u001b[2K\u001b[1Gngrok - downloading progress: 10695264/16611170\u001b[2K\u001b[1Gngrok - downloading progress: 10711648/16611170\u001b[2K\u001b[1Gngrok - downloading progress: 10718968/16611170\u001b[2K\u001b[1Gngrok - downloading progress: 10735352/16611170\u001b[2K\u001b[1Gngrok - downloading progress: 10751736/16611170\u001b[2K\u001b[1Gngrok - downloading progress: 10768120/16611170\u001b[2K\u001b[1Gngrok - downloading progress: 10784504/16611170\u001b[2K\u001b[1Gngrok - downloading progress: 10800888/16611170\u001b[2K\u001b[1Gngrok - downloading progress: 10817272/16611170\u001b[2K\u001b[1Gngrok - downloading progress: 10833656/16611170\u001b[2K\u001b[1Gngrok - downloading progress: 10850040/16611170\u001b[2K\u001b[1Gngrok - downloading progress: 10866424/16611170\u001b[2K\u001b[1Gngrok - downloading progress: 10873904/16611170\u001b[2K\u001b[1Gngrok - downloading progress: 10890288/16611170\u001b[2K\u001b[1Gngrok - downloading progress: 10906672/16611170\u001b[2K\u001b[1Gngrok - downloading progress: 10923056/16611170\u001b[2K\u001b[1Gngrok - downloading progress: 10939440/16611170\u001b[2K\u001b[1Gngrok - downloading progress: 10955824/16611170\u001b[2K\u001b[1Gngrok - downloading progress: 10972208/16611170\u001b[2K\u001b[1Gngrok - downloading progress: 10988592/16611170\u001b[2K\u001b[1Gngrok - downloading progress: 11004976/16611170\u001b[2K\u001b[1Gngrok - downloading progress: 11021360/16611170\u001b[2K\u001b[1Gngrok - downloading progress: 11021600/16611170\u001b[2K\u001b[1Gngrok - downloading progress: 11037984/16611170\u001b[2K\u001b[1Gngrok - downloading progress: 11054368/16611170\u001b[2K\u001b[1Gngrok - downloading progress: 11070752/16611170\u001b[2K\u001b[1Gngrok - downloading progress: 11087136/16611170\u001b[2K\u001b[1Gngrok - downloading progress: 11103520/16611170\u001b[2K\u001b[1Gngrok - downloading progress: 11119904/16611170\u001b[2K\u001b[1Gngrok - downloading progress: 11136288/16611170\u001b[2K\u001b[1Gngrok - downloading progress: 11152672/16611170\u001b[2K\u001b[1Gngrok - downloading progress: 11166400/16611170\u001b[2K\u001b[1Gngrok - downloading progress: 11182784/16611170\u001b[2K\u001b[1Gngrok - downloading progress: 11199168/16611170\u001b[2K\u001b[1Gngrok - downloading progress: 11215552/16611170\u001b[2K\u001b[1Gngrok - downloading progress: 11231936/16611170\u001b[2K\u001b[1Gngrok - downloading progress: 11248320/16611170\u001b[2K\u001b[1Gngrok - downloading progress: 11264704/16611170\u001b[2K\u001b[1Gngrok - downloading progress: 11281088/16611170\u001b[2K\u001b[1Gngrok - downloading progress: 11297472/16611170\u001b[2K\u001b[1Gngrok - downloading progress: 11313856/16611170\u001b[2K\u001b[1Gngrok - downloading progress: 11330240/16611170\u001b[2K\u001b[1Gngrok - downloading progress: 11346624/16611170\u001b[2K\u001b[1Gngrok - downloading progress: 11363008/16611170\u001b[2K\u001b[1Gngrok - downloading progress: 11379392/16611170\u001b[2K\u001b[1Gngrok - downloading progress: 11395776/16611170\u001b[2K\u001b[1Gngrok - downloading progress: 11412160/16611170\u001b[2K\u001b[1Gngrok - downloading progress: 11419800/16611170\u001b[2K\u001b[1Gngrok - downloading progress: 11436184/16611170\u001b[2K\u001b[1Gngrok - downloading progress: 11452568/16611170\u001b[2K\u001b[1Gngrok - downloading progress: 11468952/16611170\u001b[2K\u001b[1Gngrok - downloading progress: 11485336/16611170\u001b[2K\u001b[1Gngrok - downloading progress: 11501720/16611170\u001b[2K\u001b[1Gngrok - downloading progress: 11518104/16611170\u001b[2K\u001b[1Gngrok - downloading progress: 11534488/16611170\u001b[2K\u001b[1Gngrok - downloading progress: 11550872/16611170\u001b[2K\u001b[1Gngrok - downloading progress: 11567256/16611170\u001b[2K\u001b[1Gngrok - downloading progress: 11583640/16611170\u001b[2K\u001b[1Gngrok - downloading progress: 11600024/16611170\u001b[2K\u001b[1Gngrok - downloading progress: 11616408/16611170\u001b[2K\u001b[1Gngrok - downloading progress: 11632792/16611170\u001b[2K\u001b[1Gngrok - downloading progress: 11649176/16611170\u001b[2K\u001b[1Gngrok - downloading progress: 11665560/16611170\u001b[2K\u001b[1Gngrok - downloading progress: 11681944/16611170\u001b[2K\u001b[1Gngrok - downloading progress: 11698328/16611170\u001b[2K\u001b[1Gngrok - downloading progress: 11707952/16611170\u001b[2K\u001b[1Gngrok - downloading progress: 11724336/16611170\u001b[2K\u001b[1Gngrok - downloading progress: 11740720/16611170\u001b[2K\u001b[1Gngrok - downloading progress: 11757104/16611170\u001b[2K\u001b[1Gngrok - downloading progress: 11773488/16611170\u001b[2K\u001b[1Gngrok - downloading progress: 11789872/16611170\u001b[2K\u001b[1Gngrok - downloading progress: 11797728/16611170\u001b[2K\u001b[1Gngrok - downloading progress: 11814112/16611170\u001b[2K\u001b[1Gngrok - downloading progress: 11830496/16611170\u001b[2K\u001b[1Gngrok - downloading progress: 11846880/16611170\u001b[2K\u001b[1Gngrok - downloading progress: 11863264/16611170\u001b[2K\u001b[1Gngrok - downloading progress: 11879648/16611170\u001b[2K\u001b[1Gngrok - downloading progress: 11896032/16611170\u001b[2K\u001b[1Gngrok - downloading progress: 11910672/16611170\u001b[2K\u001b[1Gngrok - downloading progress: 11927056/16611170\u001b[2K\u001b[1Gngrok - downloading progress: 11943440/16611170\u001b[2K\u001b[1Gngrok - downloading progress: 11959824/16611170\u001b[2K\u001b[1Gngrok - downloading progress: 11976208/16611170\u001b[2K\u001b[1Gngrok - downloading progress: 11992592/16611170\u001b[2K\u001b[1Gngrok - downloading progress: 12008976/16611170\u001b[2K\u001b[1Gngrok - downloading progress: 12025360/16611170\u001b[2K\u001b[1Gngrok - downloading progress: 12041744/16611170\u001b[2K\u001b[1Gngrok - downloading progress: 12058128/16611170\u001b[2K\u001b[1Gngrok - downloading progress: 12062712/16611170\u001b[2K\u001b[1Gngrok - downloading progress: 12079096/16611170\u001b[2K\u001b[1Gngrok - downloading progress: 12095480/16611170"
     ]
    },
    {
     "name": "stdout",
     "output_type": "stream",
     "text": [
      "\u001b[2K\u001b[1Gngrok - downloading progress: 12111864/16611170\u001b[2K\u001b[1Gngrok - downloading progress: 12128248/16611170\u001b[2K\u001b[1Gngrok - downloading progress: 12144632/16611170\u001b[2K\u001b[1Gngrok - downloading progress: 12161016/16611170\u001b[2K\u001b[1Gngrok - downloading progress: 12177400/16611170\u001b[2K\u001b[1Gngrok - downloading progress: 12193784/16611170\u001b[2K\u001b[1Gngrok - downloading progress: 12195928/16611170\u001b[2K\u001b[1Gngrok - downloading progress: 12212312/16611170\u001b[2K\u001b[1Gngrok - downloading progress: 12228696/16611170\u001b[2K\u001b[1Gngrok - downloading progress: 12245080/16611170\u001b[2K\u001b[1Gngrok - downloading progress: 12261464/16611170\u001b[2K\u001b[1Gngrok - downloading progress: 12277848/16611170\u001b[2K\u001b[1Gngrok - downloading progress: 12294232/16611170\u001b[2K\u001b[1Gngrok - downloading progress: 12295840/16611170\u001b[2K\u001b[1Gngrok - downloading progress: 12312224/16611170\u001b[2K\u001b[1Gngrok - downloading progress: 12328608/16611170\u001b[2K\u001b[1Gngrok - downloading progress: 12344992/16611170\u001b[2K\u001b[1Gngrok - downloading progress: 12361376/16611170\u001b[2K\u001b[1Gngrok - downloading progress: 12377760/16611170\u001b[2K\u001b[1Gngrok - downloading progress: 12394144/16611170\u001b[2K\u001b[1Gngrok - downloading progress: 12410528/16611170\u001b[2K\u001b[1Gngrok - downloading progress: 12426912/16611170\u001b[2K\u001b[1Gngrok - downloading progress: 12443296/16611170\u001b[2K\u001b[1Gngrok - downloading progress: 12459680/16611170\u001b[2K\u001b[1Gngrok - downloading progress: 12476064/16611170\u001b[2K\u001b[1Gngrok - downloading progress: 12492448/16611170\u001b[2K\u001b[1Gngrok - downloading progress: 12508832/16611170\u001b[2K\u001b[1Gngrok - downloading progress: 12525216/16611170\u001b[2K\u001b[1Gngrok - downloading progress: 12541600/16611170\u001b[2K\u001b[1Gngrok - downloading progress: 12557984/16611170\u001b[2K\u001b[1Gngrok - downloading progress: 12562272/16611170\u001b[2K\u001b[1Gngrok - downloading progress: 12578656/16611170\u001b[2K\u001b[1Gngrok - downloading progress: 12595040/16611170\u001b[2K\u001b[1Gngrok - downloading progress: 12611424/16611170\u001b[2K\u001b[1Gngrok - downloading progress: 12627808/16611170\u001b[2K\u001b[1Gngrok - downloading progress: 12644192/16611170\u001b[2K\u001b[1Gngrok - downloading progress: 12660576/16611170\u001b[2K\u001b[1Gngrok - downloading progress: 12676960/16611170\u001b[2K\u001b[1Gngrok - downloading progress: 12693344/16611170\u001b[2K\u001b[1Gngrok - downloading progress: 12709728/16611170\u001b[2K\u001b[1Gngrok - downloading progress: 12726112/16611170\u001b[2K\u001b[1Gngrok - downloading progress: 12742496/16611170\u001b[2K\u001b[1Gngrok - downloading progress: 12758880/16611170\u001b[2K\u001b[1Gngrok - downloading progress: 12775264/16611170\u001b[2K\u001b[1Gngrok - downloading progress: 12791648/16611170\u001b[2K\u001b[1Gngrok - downloading progress: 12808032/16611170\u001b[2K\u001b[1Gngrok - downloading progress: 12824416/16611170\u001b[2K\u001b[1Gngrok - downloading progress: 12840800/16611170\u001b[2K\u001b[1Gngrok - downloading progress: 12850424/16611170\u001b[2K\u001b[1Gngrok - downloading progress: 12866808/16611170\u001b[2K\u001b[1Gngrok - downloading progress: 12883192/16611170\u001b[2K\u001b[1Gngrok - downloading progress: 12899576/16611170\u001b[2K\u001b[1Gngrok - downloading progress: 12915960/16611170\u001b[2K\u001b[1Gngrok - downloading progress: 12932344/16611170\u001b[2K\u001b[1Gngrok - downloading progress: 12948728/16611170\u001b[2K\u001b[1Gngrok - downloading progress: 12965112/16611170\u001b[2K\u001b[1Gngrok - downloading progress: 12981496/16611170\u001b[2K\u001b[1Gngrok - downloading progress: 12997880/16611170\u001b[2K\u001b[1Gngrok - downloading progress: 13014264/16611170\u001b[2K\u001b[1Gngrok - downloading progress: 13030648/16611170\u001b[2K\u001b[1Gngrok - downloading progress: 13047032/16611170\u001b[2K\u001b[1Gngrok - downloading progress: 13063416/16611170\u001b[2K\u001b[1Gngrok - downloading progress: 13079800/16611170\u001b[2K\u001b[1Gngrok - downloading progress: 13096184/16611170\u001b[2K\u001b[1Gngrok - downloading progress: 13096584/16611170\u001b[2K\u001b[1Gngrok - downloading progress: 13112968/16611170\u001b[2K\u001b[1Gngrok - downloading progress: 13129352/16611170\u001b[2K\u001b[1Gngrok - downloading progress: 13145736/16611170\u001b[2K\u001b[1Gngrok - downloading progress: 13162120/16611170\u001b[2K\u001b[1Gngrok - downloading progress: 13178504/16611170\u001b[2K\u001b[1Gngrok - downloading progress: 13194888/16611170\u001b[2K\u001b[1Gngrok - downloading progress: 13211272/16611170\u001b[2K\u001b[1Gngrok - downloading progress: 13227656/16611170\u001b[2K\u001b[1Gngrok - downloading progress: 13244040/16611170\u001b[2K\u001b[1Gngrok - downloading progress: 13260424/16611170\u001b[2K\u001b[1Gngrok - downloading progress: 13276808/16611170\u001b[2K\u001b[1Gngrok - downloading progress: 13293192/16611170\u001b[2K\u001b[1Gngrok - downloading progress: 13309576/16611170\u001b[2K\u001b[1Gngrok - downloading progress: 13319576/16611170\u001b[2K\u001b[1Gngrok - downloading progress: 13335960/16611170\u001b[2K\u001b[1Gngrok - downloading progress: 13352344/16611170\u001b[2K\u001b[1Gngrok - downloading progress: 13368728/16611170\u001b[2K\u001b[1Gngrok - downloading progress: 13385112/16611170\u001b[2K\u001b[1Gngrok - downloading progress: 13401496/16611170\u001b[2K\u001b[1Gngrok - downloading progress: 13417880/16611170\u001b[2K\u001b[1Gngrok - downloading progress: 13434264/16611170\u001b[2K\u001b[1Gngrok - downloading progress: 13450648/16611170\u001b[2K\u001b[1Gngrok - downloading progress: 13467032/16611170\u001b[2K\u001b[1Gngrok - downloading progress: 13483416/16611170\u001b[2K\u001b[1Gngrok - downloading progress: 13499800/16611170\u001b[2K\u001b[1Gngrok - downloading progress: 13516184/16611170\u001b[2K\u001b[1Gngrok - downloading progress: 13532568/16611170\u001b[2K\u001b[1Gngrok - downloading progress: 13548952/16611170\u001b[2K\u001b[1Gngrok - downloading progress: 13565336/16611170\u001b[2K\u001b[1Gngrok - downloading progress: 13581720/16611170\u001b[2K\u001b[1Gngrok - downloading progress: 13598104/16611170\u001b[2K\u001b[1Gngrok - downloading progress: 13614488/16611170\u001b[2K\u001b[1Gngrok - downloading progress: 13630872/16611170\u001b[2K\u001b[1Gngrok - downloading progress: 13647256/16611170\u001b[2K\u001b[1Gngrok - downloading progress: 13663640/16611170\u001b[2K\u001b[1Gngrok - downloading progress: 13680024/16611170\u001b[2K\u001b[1Gngrok - downloading progress: 13696408/16611170\u001b[2K\u001b[1Gngrok - downloading progress: 13712792/16611170\u001b[2K\u001b[1Gngrok - downloading progress: 13729176/16611170\u001b[2K\u001b[1Gngrok - downloading progress: 13745560/16611170\u001b[2K\u001b[1Gngrok - downloading progress: 13752528/16611170\u001b[2K\u001b[1Gngrok - downloading progress: 13768912/16611170\u001b[2K\u001b[1Gngrok - downloading progress: 13785296/16611170\u001b[2K\u001b[1Gngrok - downloading progress: 13801680/16611170\u001b[2K\u001b[1Gngrok - downloading progress: 13818064/16611170\u001b[2K\u001b[1Gngrok - downloading progress: 13834448/16611170\u001b[2K\u001b[1Gngrok - downloading progress: 13850832/16611170\u001b[2K\u001b[1Gngrok - downloading progress: 13867216/16611170\u001b[2K\u001b[1Gngrok - downloading progress: 13883600/16611170\u001b[2K\u001b[1Gngrok - downloading progress: 13899984/16611170\u001b[2K\u001b[1Gngrok - downloading progress: 13916368/16611170\u001b[2K\u001b[1Gngrok - downloading progress: 13932752/16611170\u001b[2K\u001b[1Gngrok - downloading progress: 13949136/16611170\u001b[2K\u001b[1Gngrok - downloading progress: 13965520/16611170\u001b[2K\u001b[1Gngrok - downloading progress: 13981904/16611170\u001b[2K\u001b[1Gngrok - downloading progress: 13998288/16611170\u001b[2K\u001b[1Gngrok - downloading progress: 14014672/16611170\u001b[2K\u001b[1Gngrok - downloading progress: 14031056/16611170\u001b[2K\u001b[1Gngrok - downloading progress: 14047440/16611170\u001b[2K\u001b[1Gngrok - downloading progress: 14063824/16611170\u001b[2K\u001b[1Gngrok - downloading progress: 14080208/16611170\u001b[2K\u001b[1Gngrok - downloading progress: 14096592/16611170\u001b[2K\u001b[1Gngrok - downloading progress: 14112976/16611170\u001b[2K\u001b[1Gngrok - downloading progress: 14129360/16611170\u001b[2K\u001b[1Gngrok - downloading progress: 14145744/16611170\u001b[2K\u001b[1Gngrok - downloading progress: 14162128/16611170\u001b[2K\u001b[1Gngrok - downloading progress: 14162312/16611170\u001b[2K\u001b[1Gngrok - downloading progress: 14178696/16611170\u001b[2K\u001b[1Gngrok - downloading progress: 14195080/16611170\u001b[2K\u001b[1Gngrok - downloading progress: 14211464/16611170\u001b[2K\u001b[1Gngrok - downloading progress: 14227848/16611170\u001b[2K\u001b[1Gngrok - downloading progress: 14244232/16611170\u001b[2K\u001b[1Gngrok - downloading progress: 14260616/16611170\u001b[2K\u001b[1Gngrok - downloading progress: 14277000/16611170\u001b[2K\u001b[1Gngrok - downloading progress: 14293384/16611170\u001b[2K\u001b[1Gngrok - downloading progress: 14309768/16611170\u001b[2K\u001b[1Gngrok - downloading progress: 14326152/16611170\u001b[2K\u001b[1Gngrok - downloading progress: 14342536/16611170\u001b[2K\u001b[1Gngrok - downloading progress: 14358920/16611170\u001b[2K\u001b[1Gngrok - downloading progress: 14375304/16611170\u001b[2K\u001b[1Gngrok - downloading progress: 14391688/16611170\u001b[2K\u001b[1Gngrok - downloading progress: 14408072/16611170\u001b[2K\u001b[1Gngrok - downloading progress: 14424456/16611170\u001b[2K\u001b[1Gngrok - downloading progress: 14440840/16611170\u001b[2K\u001b[1Gngrok - downloading progress: 14449016/16611170\u001b[2K\u001b[1Gngrok - downloading progress: 14465400/16611170\u001b[2K\u001b[1Gngrok - downloading progress: 14481784/16611170"
     ]
    },
    {
     "name": "stdout",
     "output_type": "stream",
     "text": [
      "\u001b[2K\u001b[1Gngrok - downloading progress: 14498168/16611170\u001b[2K\u001b[1Gngrok - downloading progress: 14514552/16611170\u001b[2K\u001b[1Gngrok - downloading progress: 14530936/16611170\u001b[2K\u001b[1Gngrok - downloading progress: 14547320/16611170\u001b[2K\u001b[1Gngrok - downloading progress: 14563704/16611170\u001b[2K\u001b[1Gngrok - downloading progress: 14580088/16611170\u001b[2K\u001b[1Gngrok - downloading progress: 14596472/16611170\u001b[2K\u001b[1Gngrok - downloading progress: 14612856/16611170\u001b[2K\u001b[1Gngrok - downloading progress: 14629240/16611170\u001b[2K\u001b[1Gngrok - downloading progress: 14645624/16611170\u001b[2K\u001b[1Gngrok - downloading progress: 14662008/16611170\u001b[2K\u001b[1Gngrok - downloading progress: 14678392/16611170\u001b[2K\u001b[1Gngrok - downloading progress: 14694776/16611170\u001b[2K\u001b[1Gngrok - downloading progress: 14711160/16611170\u001b[2K\u001b[1Gngrok - downloading progress: 14727544/16611170\u001b[2K\u001b[1Gngrok - downloading progress: 14729928/16611170\u001b[2K\u001b[1Gngrok - downloading progress: 14746312/16611170\u001b[2K\u001b[1Gngrok - downloading progress: 14762696/16611170\u001b[2K\u001b[1Gngrok - downloading progress: 14779080/16611170\u001b[2K\u001b[1Gngrok - downloading progress: 14795464/16611170\u001b[2K\u001b[1Gngrok - downloading progress: 14811848/16611170\u001b[2K\u001b[1Gngrok - downloading progress: 14828232/16611170\u001b[2K\u001b[1Gngrok - downloading progress: 14844616/16611170\u001b[2K\u001b[1Gngrok - downloading progress: 14860248/16611170\u001b[2K\u001b[1Gngrok - downloading progress: 14876632/16611170\u001b[2K\u001b[1Gngrok - downloading progress: 14893016/16611170\u001b[2K\u001b[1Gngrok - downloading progress: 14909400/16611170\u001b[2K\u001b[1Gngrok - downloading progress: 14925784/16611170\u001b[2K\u001b[1Gngrok - downloading progress: 14942168/16611170\u001b[2K\u001b[1Gngrok - downloading progress: 14958552/16611170\u001b[2K\u001b[1Gngrok - downloading progress: 14974936/16611170\u001b[2K\u001b[1Gngrok - downloading progress: 14986224/16611170\u001b[2K\u001b[1Gngrok - downloading progress: 15002608/16611170\u001b[2K\u001b[1Gngrok - downloading progress: 15018992/16611170\u001b[2K\u001b[1Gngrok - downloading progress: 15035376/16611170\u001b[2K\u001b[1Gngrok - downloading progress: 15051760/16611170\u001b[2K\u001b[1Gngrok - downloading progress: 15068144/16611170\u001b[2K\u001b[1Gngrok - downloading progress: 15084528/16611170\u001b[2K\u001b[1Gngrok - downloading progress: 15100912/16611170\u001b[2K\u001b[1Gngrok - downloading progress: 15115096/16611170\u001b[2K\u001b[1Gngrok - downloading progress: 15131480/16611170\u001b[2K\u001b[1Gngrok - downloading progress: 15147864/16611170\u001b[2K\u001b[1Gngrok - downloading progress: 15164248/16611170\u001b[2K\u001b[1Gngrok - downloading progress: 15180632/16611170\u001b[2K\u001b[1Gngrok - downloading progress: 15197016/16611170\u001b[2K\u001b[1Gngrok - downloading progress: 15213400/16611170\u001b[2K\u001b[1Gngrok - downloading progress: 15229784/16611170\u001b[2K\u001b[1Gngrok - downloading progress: 15246168/16611170\u001b[2K\u001b[1Gngrok - downloading progress: 15248312/16611170\u001b[2K\u001b[1Gngrok - downloading progress: 15264696/16611170\u001b[2K\u001b[1Gngrok - downloading progress: 15281080/16611170\u001b[2K\u001b[1Gngrok - downloading progress: 15297464/16611170\u001b[2K\u001b[1Gngrok - downloading progress: 15313848/16611170\u001b[2K\u001b[1Gngrok - downloading progress: 15330232/16611170\u001b[2K\u001b[1Gngrok - downloading progress: 15346616/16611170\u001b[2K\u001b[1Gngrok - downloading progress: 15363000/16611170\u001b[2K\u001b[1Gngrok - downloading progress: 15379384/16611170\u001b[2K\u001b[1Gngrok - downloading progress: 15380080/16611170\u001b[2K\u001b[1Gngrok - downloading progress: 15396464/16611170\u001b[2K\u001b[1Gngrok - downloading progress: 15412848/16611170\u001b[2K\u001b[1Gngrok - downloading progress: 15429232/16611170\u001b[2K\u001b[1Gngrok - downloading progress: 15445616/16611170\u001b[2K\u001b[1Gngrok - downloading progress: 15462000/16611170\u001b[2K\u001b[1Gngrok - downloading progress: 15478384/16611170\u001b[2K\u001b[1Gngrok - downloading progress: 15494768/16611170\u001b[2K\u001b[1Gngrok - downloading progress: 15511152/16611170\u001b[2K\u001b[1Gngrok - downloading progress: 15527536/16611170\u001b[2K\u001b[1Gngrok - downloading progress: 15543920/16611170\u001b[2K\u001b[1Gngrok - downloading progress: 15560304/16611170\u001b[2K\u001b[1Gngrok - downloading progress: 15576688/16611170\u001b[2K\u001b[1Gngrok - downloading progress: 15593072/16611170\u001b[2K\u001b[1Gngrok - downloading progress: 15595832/16611170\u001b[2K\u001b[1Gngrok - downloading progress: 15612216/16611170\u001b[2K\u001b[1Gngrok - downloading progress: 15628600/16611170\u001b[2K\u001b[1Gngrok - downloading progress: 15644984/16611170\u001b[2K\u001b[1Gngrok - downloading progress: 15661368/16611170\u001b[2K\u001b[1Gngrok - downloading progress: 15677752/16611170\u001b[2K\u001b[1Gngrok - downloading progress: 15694136/16611170\u001b[2K\u001b[1Gngrok - downloading progress: 15710520/16611170\u001b[2K\u001b[1Gngrok - downloading progress: 15726904/16611170\u001b[2K\u001b[1Gngrok - downloading progress: 15733392/16611170\u001b[2K\u001b[1Gngrok - downloading progress: 15749776/16611170\u001b[2K\u001b[1Gngrok - downloading progress: 15766160/16611170\u001b[2K\u001b[1Gngrok - downloading progress: 15782544/16611170\u001b[2K\u001b[1Gngrok - downloading progress: 15798928/16611170\u001b[2K\u001b[1Gngrok - downloading progress: 15815312/16611170\u001b[2K\u001b[1Gngrok - downloading progress: 15831696/16611170\u001b[2K\u001b[1Gngrok - downloading progress: 15836200/16611170\u001b[2K\u001b[1Gngrok - downloading progress: 15852584/16611170\u001b[2K\u001b[1Gngrok - downloading progress: 15868968/16611170\u001b[2K\u001b[1Gngrok - downloading progress: 15885352/16611170\u001b[2K\u001b[1Gngrok - downloading progress: 15901736/16611170\u001b[2K\u001b[1Gngrok - downloading progress: 15918120/16611170\u001b[2K\u001b[1Gngrok - downloading progress: 15918736/16611170\u001b[2K\u001b[1Gngrok - downloading progress: 15935120/16611170\u001b[2K\u001b[1Gngrok - downloading progress: 15951504/16611170\u001b[2K\u001b[1Gngrok - downloading progress: 15967888/16611170\u001b[2K\u001b[1Gngrok - downloading progress: 15984272/16611170\u001b[2K\u001b[1Gngrok - downloading progress: 16000656/16611170\u001b[2K\u001b[1Gngrok - downloading progress: 16017040/16611170\u001b[2K\u001b[1Gngrok - downloading progress: 16033424/16611170\u001b[2K\u001b[1Gngrok - downloading progress: 16049808/16611170\u001b[2K\u001b[1Gngrok - downloading progress: 16062088/16611170\u001b[2K\u001b[1Gngrok - downloading progress: 16078472/16611170\u001b[2K\u001b[1Gngrok - downloading progress: 16094856/16611170\u001b[2K\u001b[1Gngrok - downloading progress: 16111240/16611170\u001b[2K\u001b[1Gngrok - downloading progress: 16127624/16611170\u001b[2K\u001b[1Gngrok - downloading progress: 16144008/16611170\u001b[2K\u001b[1Gngrok - downloading progress: 16160392/16611170\u001b[2K\u001b[1Gngrok - downloading progress: 16176776/16611170\u001b[2K\u001b[1Gngrok - downloading progress: 16193160/16611170\u001b[2K\u001b[1Gngrok - downloading progress: 16202544/16611170\u001b[2K\u001b[1Gngrok - downloading progress: 16218928/16611170\u001b[2K\u001b[1Gngrok - downloading progress: 16235312/16611170\u001b[2K\u001b[1Gngrok - downloading progress: 16251696/16611170\u001b[2K\u001b[1Gngrok - downloading progress: 16268080/16611170\u001b[2K\u001b[1Gngrok - downloading progress: 16284464/16611170\u001b[2K\u001b[1Gngrok - downloading progress: 16300848/16611170\u001b[2K\u001b[1Gngrok - downloading progress: 16317232/16611170\u001b[2K\u001b[1Gngrok - downloading progress: 16328520/16611170\u001b[2K\u001b[1Gngrok - downloading progress: 16344904/16611170\u001b[2K\u001b[1Gngrok - downloading progress: 16361288/16611170\u001b[2K\u001b[1Gngrok - downloading progress: 16377672/16611170\u001b[2K\u001b[1Gngrok - downloading progress: 16394056/16611170\u001b[2K\u001b[1Gngrok - downloading progress: 16410440/16611170\u001b[2K\u001b[1Gngrok - downloading progress: 16426824/16611170\u001b[2K\u001b[1Gngrok - downloading progress: 16437120/16611170\u001b[2K\u001b[1Gngrok - downloading progress: 16453504/16611170\u001b[2K\u001b[1Gngrok - downloading progress: 16469888/16611170\u001b[2K\u001b[1Gngrok - downloading progress: 16486272/16611170\u001b[2K\u001b[1Gngrok - downloading progress: 16502656/16611170\u001b[2K\u001b[1Gngrok - downloading progress: 16519040/16611170\u001b[2K\u001b[1Gngrok - downloading progress: 16535424/16611170\u001b[2K\u001b[1Gngrok - downloading progress: 16551808/16611170\u001b[2K\u001b[1Gngrok - downloading progress: 16568192/16611170\u001b[2K\u001b[1Gngrok - downloading progress: 16570336/16611170\u001b[2K\u001b[1Gngrok - downloading progress: 16586720/16611170\u001b[2K\u001b[1Gngrok - downloading progress: 16603104/16611170\u001b[2K\u001b[1Gngrok - downloading progress: 16611170/16611170\n",
      "ngrok - binary downloaded to /Users/louisabraham/.ngrok/aHR0cHM6Ly9iaW4uZXF1aW5veC5pby9jLzRWbUR6QTdpYUhiL25ncm9rLXN0YWJsZS1kYXJ3aW4tYW1kNjQuemlw.zip\n",
      "ngrok - unpacking binary\n",
      "ngrok - binary unpacked to /usr/local/lib/node_modules/ngrok/bin/ngrok\n",
      "+ ngrok@3.1.1\n",
      "added 70 packages from 95 contributors in 24.246s\n"
     ]
    }
   ],
   "source": [
    "!npm i -s -q --unsafe-perm -g ngrok"
   ]
  },
  {
   "cell_type": "code",
   "execution_count": 170,
   "metadata": {
    "ExecuteTime": {
     "end_time": "2019-06-06T09:19:29.083490Z",
     "start_time": "2019-06-06T09:19:28.949063Z"
    }
   },
   "outputs": [],
   "source": [
    "get_ipython().system_raw(\n",
    "    'tensorboard --logdir runs --host 0.0.0.0 --port 6006 &'\n",
    ")\n",
    "get_ipython().system_raw('ngrok http 6006 &')"
   ]
  },
  {
   "cell_type": "code",
   "execution_count": 171,
   "metadata": {
    "ExecuteTime": {
     "end_time": "2019-06-06T09:19:45.494436Z",
     "start_time": "2019-06-06T09:19:45.096029Z"
    }
   },
   "outputs": [
    {
     "name": "stdout",
     "output_type": "stream",
     "text": [
      "http://f9749406.ngrok.io\r\n"
     ]
    }
   ],
   "source": [
    "! curl -s http://localhost:4040/api/tunnels | python3 -c \\\n",
    "    \"import sys, json; print(json.load(sys.stdin)['tunnels'][0]['public_url'])\""
   ]
  },
  {
   "cell_type": "code",
   "execution_count": 187,
   "metadata": {
    "ExecuteTime": {
     "end_time": "2019-06-06T09:35:57.092135Z",
     "start_time": "2019-06-06T09:35:56.866453Z"
    }
   },
   "outputs": [
    {
     "name": "stdout",
     "output_type": "stream",
     "text": [
      "\u001b[1m\u001b[36mJun06_11-25-16_mbpla.local_exp\u001b[m\u001b[m\r\n"
     ]
    }
   ],
   "source": []
  },
  {
   "cell_type": "code",
   "execution_count": 185,
   "metadata": {
    "ExecuteTime": {
     "end_time": "2019-06-06T09:35:52.451859Z",
     "start_time": "2019-06-06T09:35:52.350294Z"
    }
   },
   "outputs": [
    {
     "name": "stdout",
     "output_type": "stream",
     "text": [
      "/Users/louisabraham/github/feaml/runs\n"
     ]
    }
   ],
   "source": []
  },
  {
   "cell_type": "code",
   "execution_count": 172,
   "metadata": {
    "ExecuteTime": {
     "end_time": "2019-06-06T09:19:52.336485Z",
     "start_time": "2019-06-06T09:19:52.212752Z"
    }
   },
   "outputs": [
    {
     "name": "stdout",
     "output_type": "stream",
     "text": [
      "The autoreload extension is already loaded. To reload it, use:\n",
      "  %reload_ext autoreload\n",
      "The tensorboard.notebook extension is already loaded. To reload it, use:\n",
      "  %reload_ext tensorboard.notebook\n"
     ]
    }
   ],
   "source": [
    "%load_ext autoreload\n",
    "%autoreload 2\n",
    "%load_ext tensorboard.notebook\n",
    "\n",
    "\n",
    "from collections import defaultdict\n",
    "\n",
    "import matplotlib.pyplot as plt\n",
    "import numpy as np\n",
    "import sklearn.datasets\n",
    "import numpy as np\n",
    "from sklearn.decomposition import PCA\n",
    "import torch\n",
    "from torch import optim\n",
    "from torch.utils.data import DataLoader\n",
    "from tensorboardX import SummaryWriter\n",
    "from tqdm.autonotebook import tqdm"
   ]
  },
  {
   "cell_type": "code",
   "execution_count": 173,
   "metadata": {
    "ExecuteTime": {
     "end_time": "2019-06-06T09:20:09.027884Z",
     "start_time": "2019-06-06T09:20:08.950706Z"
    }
   },
   "outputs": [],
   "source": [
    "from datasets import *\n",
    "from plots import *\n",
    "from metrics import *"
   ]
  },
  {
   "cell_type": "code",
   "execution_count": 174,
   "metadata": {
    "ExecuteTime": {
     "end_time": "2019-06-06T09:20:09.840445Z",
     "start_time": "2019-06-06T09:20:09.767979Z"
    }
   },
   "outputs": [],
   "source": [
    "device = torch.device(\"cuda:0\" if torch.cuda.is_available() else \"cpu\")"
   ]
  },
  {
   "cell_type": "code",
   "execution_count": 175,
   "metadata": {
    "ExecuteTime": {
     "end_time": "2019-06-06T09:20:11.268953Z",
     "start_time": "2019-06-06T09:20:11.202465Z"
    }
   },
   "outputs": [],
   "source": [
    "BATCH_SIZE = 32\n",
    "\n",
    "ABX_BATCH_SIZE = 512\n",
    "ABX_REJECT = 1\n",
    "\n",
    "A_abx = 10\n",
    "A_y = 0\n",
    "A_x = 1"
   ]
  },
  {
   "cell_type": "code",
   "execution_count": 176,
   "metadata": {
    "ExecuteTime": {
     "end_time": "2019-06-06T09:20:12.268552Z",
     "start_time": "2019-06-06T09:20:12.001013Z"
    }
   },
   "outputs": [],
   "source": [
    "train, valid, test = load_adult(device=device)\n"
   ]
  },
  {
   "cell_type": "code",
   "execution_count": 177,
   "metadata": {
    "ExecuteTime": {
     "end_time": "2019-06-06T09:20:13.595461Z",
     "start_time": "2019-06-06T09:20:13.520045Z"
    }
   },
   "outputs": [],
   "source": [
    "from abxnet import ABXNet\n",
    "from mlp import MLP\n",
    "\n",
    "INPUT_SPACE = len(train[0][0])\n",
    "LATENT_SPACE = 16\n",
    "HIDDEN_LAYERS = (32, 16)\n",
    "CLASSIFIER_HIDDEN_LAYERS = (32, 16)\n",
    "\n",
    "abxnet = ABXNet(\n",
    "    encoder=MLP(INPUT_SPACE + 1, *(HIDDEN_LAYERS), LATENT_SPACE),\n",
    "    decoder=MLP(LATENT_SPACE + 1, *(HIDDEN_LAYERS[::-1]), INPUT_SPACE),\n",
    "    classifier=MLP(LATENT_SPACE, *(HIDDEN_LAYERS), 1),\n",
    "    sigmoid_scale=1,\n",
    ").to(device)"
   ]
  },
  {
   "cell_type": "code",
   "execution_count": 182,
   "metadata": {
    "ExecuteTime": {
     "end_time": "2019-06-06T09:32:12.381996Z",
     "start_time": "2019-06-06T09:25:16.571901Z"
    }
   },
   "outputs": [
    {
     "data": {
      "application/vnd.jupyter.widget-view+json": {
       "model_id": "8154e4c114dd4decbd89f9a772aa698d",
       "version_major": 2,
       "version_minor": 0
      },
      "text/html": [
       "<p>Failed to display Jupyter Widget of type <code>HBox</code>.</p>\n",
       "<p>\n",
       "  If you're reading this message in the Jupyter Notebook or JupyterLab Notebook, it may mean\n",
       "  that the widgets JavaScript is still loading. If this message persists, it\n",
       "  likely means that the widgets JavaScript library is either not installed or\n",
       "  not enabled. See the <a href=\"https://ipywidgets.readthedocs.io/en/stable/user_install.html\">Jupyter\n",
       "  Widgets Documentation</a> for setup instructions.\n",
       "</p>\n",
       "<p>\n",
       "  If you're reading this message in another frontend (for example, a static\n",
       "  rendering on GitHub or <a href=\"https://nbviewer.jupyter.org/\">NBViewer</a>),\n",
       "  it may mean that your frontend doesn't currently support widgets.\n",
       "</p>\n"
      ],
      "text/plain": [
       "HBox(children=(IntProgress(value=0), HTML(value='')))"
      ]
     },
     "metadata": {},
     "output_type": "display_data"
    }
   ],
   "source": [
    "MAX_EPOCHS = 100\n",
    "MAX_EPOCHS_WITOUT_IMPROVEMENT = 10\n",
    "\n",
    "N_ROLLONG_BATCHES = 50\n",
    "\n",
    "writer = SummaryWriter(comment=\"\")\n",
    "optimizer = optim.Adam(abxnet.parameters(), lr=1e-3)\n",
    "\n",
    "running_losses = defaultdict(list)\n",
    "\n",
    "n_batches = 0\n",
    "\n",
    "min_val_loss = float('inf')\n",
    "epochs_since_improvement = -1\n",
    "\n",
    "for epoch in tqdm(range(MAX_EPOCHS)):\n",
    "    \n",
    "    for (batch, abx_pos, abx_neg) in zip(\n",
    "        DataLoader(train, batch_size=BATCH_SIZE, shuffle=True),\n",
    "        abx_data_gen(\n",
    "            train, x_protected=True, batch_size=ABX_BATCH_SIZE, reject=ABX_REJECT\n",
    "        ),\n",
    "        abx_data_gen(\n",
    "            train, x_protected=False, batch_size=ABX_BATCH_SIZE, reject=ABX_REJECT\n",
    "        ),\n",
    "    ):\n",
    "        optimizer.zero_grad()\n",
    "        l_x, l_y = abxnet.batch_loss(*batch)\n",
    "        abx_loss = torch.max(\n",
    "            abxnet.abx_loss(*abx_pos, x_protected=True),\n",
    "            abxnet.abx_loss(*abx_neg, x_protected=False),\n",
    "        )\n",
    "        loss = A_x * l_x + A_y * l_y + A_abx * abx_loss\n",
    "        loss.backward()\n",
    "        optimizer.step()\n",
    "        \n",
    "        n_batches += 1\n",
    "        \n",
    "        running_losses['loss'].append(loss.item())\n",
    "        running_losses['abx_loss'].append(abx_loss.item())\n",
    "        running_losses['reconstruction'].append(l_x.item())\n",
    "        running_losses['classification'].append(l_y.item())\n",
    "\n",
    "        if (n_batches + 1) % N_ROLLONG_BATCHES == 0:\n",
    "            for name, value in running_losses.items():\n",
    "                writer.add_scalar(name, np.mean(value), n_batches + 1)\n",
    "            running_losses = defaultdict(list)\n",
    "    \n",
    "\n",
    "    # Validation    \n",
    "    with torch.no_grad():\n",
    "        l_x, l_y = abxnet.batch_loss(*valid.tensors)\n",
    "    l_x = l_x.item()\n",
    "    l_y = l_y.item()\n",
    "\n",
    "    abx_loss = abxnet.valid_abx_loss(*valid.tensors)\n",
    "    val_loss = A_x * l_x + A_y * l_y + A_abx * abx_loss\n",
    "    if val_loss < min_val_loss:\n",
    "        min_val_loss = val_loss\n",
    "        best_state = abxnet.state_dict()\n",
    "        epochs_since_improvement = 0\n",
    "    epochs_since_improvement += 1\n",
    "\n",
    "    writer.add_scalar('validation loss', val_loss, epoch)\n",
    "    writer.add_scalar('validation abx', abx_loss, epoch)\n",
    "    writer.add_scalar('validation reconstruction', l_x, epoch)\n",
    "    writer.add_scalar('validation classification', l_y, epoch)    \n",
    "    \n",
    "    if epochs_since_improvement > MAX_EPOCHS_WITOUT_IMPROVEMENT:\n",
    "        break\n",
    "\n",
    "    writer.close()\n",
    "\n"
   ]
  },
  {
   "cell_type": "code",
   "execution_count": null,
   "metadata": {},
   "outputs": [],
   "source": [
    "abx_"
   ]
  }
 ],
 "metadata": {
  "kernelspec": {
   "display_name": "Python 3",
   "language": "python",
   "name": "python3"
  },
  "language_info": {
   "codemirror_mode": {
    "name": "ipython",
    "version": 3
   },
   "file_extension": ".py",
   "mimetype": "text/x-python",
   "name": "python",
   "nbconvert_exporter": "python",
   "pygments_lexer": "ipython3",
   "version": "3.6.7"
  },
  "toc": {
   "colors": {
    "hover_highlight": "#DAA520",
    "navigate_num": "#000000",
    "navigate_text": "#333333",
    "running_highlight": "#FF0000",
    "selected_highlight": "#FFD700",
    "sidebar_border": "#EEEEEE",
    "wrapper_background": "#FFFFFF"
   },
   "moveMenuLeft": false,
   "nav_menu": {
    "height": "12px",
    "width": "252px"
   },
   "navigate_menu": true,
   "number_sections": true,
   "sideBar": true,
   "skipTitle": true,
   "threshold": 4,
   "toc_cell": false,
   "toc_section_display": "block",
   "toc_window_display": false,
   "widenNotebook": false
  }
 },
 "nbformat": 4,
 "nbformat_minor": 2
}
